{
 "cells": [
  {
   "cell_type": "markdown",
   "metadata": {},
   "source": [
    "# Preprocessing"
   ]
  },
  {
   "cell_type": "code",
   "execution_count": null,
   "metadata": {},
   "outputs": [],
   "source": [
    "#open txt and deleting empty rows\n",
    "with open(\"../sample/HP.txt\", \"r\", encoding = \"latin-1\") as f:\n",
    "   HP_text = f.read()\n",
    "type(HP_text)\n",
    "HP_text = HP_text.replace(\"\\n\", \"\")\n",
    "print(HP_text)"
   ]
  },
  {
   "cell_type": "code",
   "execution_count": null,
   "metadata": {},
   "outputs": [],
   "source": [
    "import nltk\n",
    "from nltk.stem import WordNetLemmatizer"
   ]
  },
  {
   "cell_type": "code",
   "execution_count": null,
   "metadata": {},
   "outputs": [],
   "source": [
    "# create a lemmatizer that turns all charachters lower-case, splits it into words and removes all punctuation\n",
    "# except for end of sentence punctations. \n",
    "lemmatizer = WordNetLemmatizer()\n",
    "def split_into_lemmas(message):\n",
    "    message = message.lower().replace('.', ' .').replace('!', ' !').replace('?', ' ?')\n",
    "    #''.join([char for char in message.lower()\n",
    "                       #if char.isalnum() or char.isspace()])\n",
    "    words= [lemmatizer.lemmatize(word, pos='v') \n",
    "            for word in message.split()]\n",
    "    punctuations = '\"#$%&\\'()*+,-/:;<=>@[\\\\]^_`{|}~'\n",
    "    table = str.maketrans('', '', punctuations)\n",
    "    return [w.translate(table) for w in words]\n",
    "\n",
    "split_into_lemmas(HP_text) "
   ]
  },
  {
   "cell_type": "code",
   "execution_count": null,
   "metadata": {},
   "outputs": [],
   "source": [
    "HP_lemmas = split_into_lemmas(HP_text) "
   ]
  }
 ],
 "metadata": {
  "kernelspec": {
   "display_name": "Python 3",
   "language": "python",
   "name": "python3"
  },
  "language_info": {
   "codemirror_mode": {
    "name": "ipython",
    "version": 3
   },
   "file_extension": ".py",
   "mimetype": "text/x-python",
   "name": "python",
   "nbconvert_exporter": "python",
   "pygments_lexer": "ipython3",
   "version": "3.6.6"
  }
 },
 "nbformat": 4,
 "nbformat_minor": 2
}
